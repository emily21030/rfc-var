{
 "cells": [
  {
   "cell_type": "code",
   "execution_count": 4,
   "id": "f43c2e9c-1c6f-481c-8165-09d1fc2c0c51",
   "metadata": {},
   "outputs": [],
   "source": [
    "# Pulls GAIA/KIC/GSC data on stellar properties and add to variability labels\n",
    "\n",
    "import warnings \n",
    "warnings.filterwarnings(\"ignore\")\n",
    "from astroquery.vizier import Vizier\n",
    "from astropy.coordinates import Angle\n",
    "import pandas as pd\n",
    "import numpy as np\n",
    "from tqdm.notebook import tqdm"
   ]
  },
  {
   "cell_type": "code",
   "execution_count": 5,
   "id": "d34a4d1b-cde6-463c-a33e-d550557336f8",
   "metadata": {},
   "outputs": [],
   "source": [
    "kic_cols = ['gmag', 'rmag', 'imag', 'zmag', 'Jmag', 'Kmag', '__Fe_H_', 'E_B-V_', 'Av', 'R_']\n",
    "gaia_cols = ['RA_ICRS', 'DE_ICRS', 'Plx', 'pmRA', 'pmDE']\n",
    "gsc_cols = ['RA_ICRS', 'DE_ICRS', 'plx', 'pmRA', 'pmDE']\n",
    "\n",
    "df = pd.read_csv(\"../output/Kepler_FFI_Labels.csv\")\n",
    "\n",
    "df[kic_cols] = None\n",
    "df[gaia_cols] = None"
   ]
  },
  {
   "cell_type": "code",
   "execution_count": null,
   "id": "8c96d226-aa7c-4d63-90e7-641a0985b884",
   "metadata": {},
   "outputs": [
    {
     "data": {
      "application/vnd.jupyter.widget-view+json": {
       "model_id": "618aaf7dc2764abcaeb2082dc9f657d1",
       "version_major": 2,
       "version_minor": 0
      },
      "text/plain": [
       "  0%|          | 0/150605 [00:00<?, ?it/s]"
      ]
     },
     "metadata": {},
     "output_type": "display_data"
    }
   ],
   "source": [
    "kic = 'V/133/kic'\n",
    "gaia = 'I/355/gaiadr3'\n",
    "gsc = 'I/353/gsc242'\n",
    "\n",
    "v = Vizier(catalog=[kic, gaia, gsc], columns=[\"**\", \"+_r\"])\n",
    "\n",
    "def upd_table(table, cols, id):\n",
    "    for col in cols:\n",
    "        idx = df[df['KIC'] == id].index[0]\n",
    "        df.at[idx, col] = table[col]\n",
    "\n",
    "for id in tqdm(df['KIC']):\n",
    "    search = \"KIC \" + str(id)\n",
    "    results = v.query_object(search)\n",
    "    for catalogue in results.keys():\n",
    "        table = results[catalogue][0]\n",
    "        if catalogue == kic:\n",
    "            upd_table(table, kic_cols, id)\n",
    "        elif catalogue == gaia:\n",
    "            upd_table(table, gaia_cols, id)\n",
    "        elif gaia not in results.keys() and catalogue == gsc:\n",
    "            upd_table(table, gsc_cols, id)     "
   ]
  },
  {
   "cell_type": "code",
   "execution_count": 130,
   "id": "e2ff1e51-b902-4f11-a049-70a152fb041e",
   "metadata": {},
   "outputs": [],
   "source": [
    "df = df.replace(to_replace=-1.0, value=np.nan)\n",
    "df = df.replace(to_replace=-999, value=np.nan)\n",
    "df = df.replace(to_replace='NaN', value=np.nan)\n",
    "df = df.replace(to_replace='--', value=np.nan)\n",
    "df = df.replace(to_replace=np.inf, value=np.nan)\n",
    "df = df.replace(to_replace=-np.inf, value=np.nan)\n",
    "df = df.dropna()\n",
    "df.to_csv(\"../output/rf_inp_set.csv\", index=False)"
   ]
  }
 ],
 "metadata": {
  "kernelspec": {
   "display_name": "Python 3 (ipykernel)",
   "language": "python",
   "name": "python3"
  },
  "language_info": {
   "codemirror_mode": {
    "name": "ipython",
    "version": 3
   },
   "file_extension": ".py",
   "mimetype": "text/x-python",
   "name": "python",
   "nbconvert_exporter": "python",
   "pygments_lexer": "ipython3",
   "version": "3.9.12"
  }
 },
 "nbformat": 4,
 "nbformat_minor": 5
}
