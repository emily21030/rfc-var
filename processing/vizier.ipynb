{
 "cells": [
  {
   "cell_type": "code",
   "execution_count": null,
   "id": "320f4a51-9e90-44d2-9035-e8fa4b3c0f77",
   "metadata": {},
   "outputs": [],
   "source": [
    "# Retrieves GAIA/KIC data on stellar properties"
   ]
  },
  {
   "cell_type": "code",
   "execution_count": 81,
   "id": "f97d53e1-731d-4c16-a2f4-0e58ce6cee4b",
   "metadata": {},
   "outputs": [],
   "source": [
    "import warnings \n",
    "warnings.filterwarnings(\"ignore\")\n",
    "import pandas as pd\n",
    "import numpy as np\n",
    "pd.set_option('display.max_columns', None)"
   ]
  },
  {
   "cell_type": "code",
   "execution_count": 69,
   "id": "a413ae5d-ff67-43c1-87b6-d432802fd4ec",
   "metadata": {},
   "outputs": [],
   "source": [
    "junk = 'KIC|Mass|E_Mass|e_Mass|Teff|E_Teff|e_Teff|logg|E_logg|e_logg|[Fe/H]|E_[Fe/H]|e_[Fe/H]|Rad|E_Rad|e_Rad|rho|E_rho|e_rho|Lum|E_Lum|e_Lum|Age|f_Age|E_Age|e_Age|Dist|E_Dist|e_Dist|Avmag|GOF|TAMS'\n",
    "\n",
    "temp = ''\n",
    "cols = []\n",
    "\n",
    "for char in junk:\n",
    "    if char == '|':\n",
    "        cols.append(temp)\n",
    "        temp = ''\n",
    "    else:\n",
    "        temp += char\n",
    "cols.append(temp)"
   ]
  },
  {
   "cell_type": "code",
   "execution_count": 110,
   "id": "54fffac9-42c3-47ef-9eb9-f02f5f638839",
   "metadata": {},
   "outputs": [],
   "source": [
    "df = pd.read_csv(\"../data/asu.tsv\", usecols=cols, sep='|', comment='#')\n",
    "df = df.iloc[2:].reset_index(drop=True)\n",
    "\n",
    "labels = pd.read_csv(\"../output/labels.csv\")"
   ]
  },
  {
   "cell_type": "code",
   "execution_count": 111,
   "id": "bc6bf5d1-889d-4bc0-aa77-746c96d1eea6",
   "metadata": {},
   "outputs": [],
   "source": [
    "final = pd.merge(df, labels[['KIC']], how='inner', on='KIC')\n",
    "labels = pd.merge(labels, final[['KIC']], how='inner', on='KIC')\n",
    "\n",
    "final['f_Age'] = final['f_Age'].replace(' ', 0).replace('*', 1)\n",
    "final = final.astype(float)\n",
    "final['KIC'] = final['KIC'].astype(int)"
   ]
  },
  {
   "cell_type": "code",
   "execution_count": 112,
   "id": "60c5d2f7-98ea-4ec2-84c7-113de5ebf85e",
   "metadata": {},
   "outputs": [],
   "source": [
    "final.to_csv(\"../output/rf_train.csv\", index=False)\n",
    "labels.to_csv(\"../output/rf_labels.csv\", index=False)"
   ]
  }
 ],
 "metadata": {
  "kernelspec": {
   "display_name": "Python 3 (ipykernel)",
   "language": "python",
   "name": "python3"
  },
  "language_info": {
   "codemirror_mode": {
    "name": "ipython",
    "version": 3
   },
   "file_extension": ".py",
   "mimetype": "text/x-python",
   "name": "python",
   "nbconvert_exporter": "python",
   "pygments_lexer": "ipython3",
   "version": "3.9.12"
  }
 },
 "nbformat": 4,
 "nbformat_minor": 5
}
