{
 "cells": [
  {
   "cell_type": "code",
   "execution_count": null,
   "id": "3273e96d-1816-45b0-8652-4a452e95e7a3",
   "metadata": {},
   "outputs": [],
   "source": [
    "# Pulls GAIA/KIC/GSC data on stellar properties and adds to variability labels"
   ]
  },
  {
   "cell_type": "code",
   "execution_count": 1,
   "id": "89cce15c-2944-4c38-ab63-335930a99a2a",
   "metadata": {},
   "outputs": [],
   "source": [
    "import warnings \n",
    "warnings.filterwarnings(\"ignore\")\n",
    "from astroquery.vizier import Vizier\n",
    "from astropy.coordinates import Angle\n",
    "import pandas as pd\n",
    "import numpy as np\n",
    "from tqdm.notebook import tqdm"
   ]
  },
  {
   "cell_type": "code",
   "execution_count": 2,
   "id": "d34a4d1b-cde6-463c-a33e-d550557336f8",
   "metadata": {},
   "outputs": [],
   "source": [
    "kic_cols = ['Teff', 'logg', 'gmag', 'rmag', 'imag', 'zmag', 'Jmag', 'Kmag', '__Fe_H_', 'E_B-V_', 'Av', 'R_']\n",
    "gaia_cols = ['RA_ICRS', 'DE_ICRS', 'Plx', 'pmRA', 'pmDE']\n",
    "gsc_cols = ['RA_ICRS', 'DE_ICRS', 'plx', 'pmRA', 'pmDE']\n",
    "\n",
    "df = pd.read_csv(\"../data/lc_data_new.out\")\n",
    "\n",
    "df = df[['KIC']]\n",
    "\n",
    "df[kic_cols] = None\n",
    "df[gaia_cols] = None"
   ]
  },
  {
   "cell_type": "code",
   "execution_count": 3,
   "id": "845d750d-6caf-4f21-9717-b1c52adf15e2",
   "metadata": {},
   "outputs": [],
   "source": [
    "kic = 'V/133/kic'\n",
    "gaia = 'I/355/gaiadr3'\n",
    "gsc = 'I/353/gsc242'\n",
    "\n",
    "v = Vizier(catalog=[kic, gaia, gsc], columns=[\"**\", \"+_r\"])"
   ]
  },
  {
   "cell_type": "code",
   "execution_count": 8,
   "id": "ac6111bb-4fb4-478f-96a7-cca4cfbff617",
   "metadata": {},
   "outputs": [
    {
     "name": "stdout",
     "output_type": "stream",
     "text": [
      "<Table length=50>\n",
      "  name   dtype       unit      format                                                          description                                                          n_bad\n",
      "------- ------- ------------- -------- ---------------------------------------------------------------------------------------------------------------------------- -----\n",
      "     _r float64                {:6.4f}                                                                       Distance from center (291.043042+36.593779)[FK5/J2000]     0\n",
      "    KIC   int32                                                                                                        [1,13161029] KIC identifier (running number)     0\n",
      "RAJ2000 float64           deg {:10.6f}                                                                                                      Right Ascension (J2000)     0\n",
      "DEJ2000 float64           deg {:10.6f}                                                                                                          Declination (J2000)     0\n",
      "   pmRA float64      mas / yr  {:8.1f}                                                                              ? Proper motion along RA (with cos(Dec) factor)     0\n",
      "   pmDE float64      mas / yr  {:8.1f}                                                                                            ? Proper motion along Declination     0\n",
      "    Plx float64           mas  {:8.2f}                                                                                                     ? Trigonometric parallax    50\n",
      "   umag float32           mag  {:6.3f}                                                                                     ? Estimated magnitude in SDSS-u band (2)    47\n",
      "   gmag float32           mag  {:6.3f}                                                                                     ? Estimated magnitude in SDSS-g band (2)     5\n",
      "   rmag float32           mag  {:6.3f}                                                                                     ? Estimated magnitude in SDSS-r band (2)     3\n",
      "   imag float32           mag  {:6.3f}                                                                                     ? Estimated magnitude in SDSS-i band (2)     3\n",
      "   zmag float32           mag  {:6.3f}                                                                                     ? Estimated magnitude in SDSS-z band (2)    31\n",
      "  grmag float32           mag  {:6.3f}                                                                                       ? Estimated magnitude in GRed band (2)    43\n",
      " d51mag float32           mag  {:6.3f}                                                                     ? Estimated magnitude in DDO-51 intermediate-band filter    33\n",
      "   Jmag float32           mag  {:6.3f}                                                                                                  ? Magnitude in 2MASS J band    19\n",
      "   Hmag float32           mag  {:6.3f}                                                                                                  ? Magnitude in 2MASS H band    19\n",
      "   Kmag float32           mag  {:6.3f}                                                                                                  ? Magnitude in 2MASS K band    19\n",
      " kepmag float32           mag  {:6.3f}                                                                                         ? Estimated magnitude in Kepler band     2\n",
      " _2Mkey   int64                                                                 ? 2MASS Cntr identification (Cat. II/246) [NULL integer written as an empty string]    19\n",
      "_2Mname   str18                                                                                                                  2MASS-PSC name (Jhhmmssff+ddmmssf)     0\n",
      " SCP-ID   int64                                                             ? Unique SCP processing identification number [NULL integer written as an empty string]    31\n",
      " SCPkey   int64                                                                   ? Unique integer key to SCPKEY database [NULL integer written as an empty string]    50\n",
      " catkey   int32                                                                   ? Unique integer key to CATKEY database [NULL integer written as an empty string]     0\n",
      "    alc   int16                                                                                                              Alternative catalog identification (1)     0\n",
      "  altID   int64                        ? Identification in alc (a running number, not the identification assigned in alc) [NULL integer written as an empty string]    42\n",
      "     sg   uint8                                                                                                                 [0,1] flags galaxy(1)/star(0) class     0\n",
      "      v   uint8                                                                                                                             [0,1] flag variable (1)     0\n",
      "     cq    str5                                                                                                                      Origin of Kepler magnitude (2)     0\n",
      "     pq   uint8                                                                                                           [0/8] number of optical band values (0/8)     0\n",
      "     aq   uint8                                                                                                            [0,6] Number of astrophysical parameters     0\n",
      "     fv   uint8                                                                          [0,2] outside (0) or inside (1,2) Kepler field of view (2 = Kepler Target)     0\n",
      "   Teff   int32             K                                                           ? Estimated effective temperature [NULL integer written as an empty string]    31\n",
      "   logg float32 log(cm.s**-2)  {:6.3f}                                                                                             ? Estimated log(surface gravity)    31\n",
      "__Fe_H_ float32      log(Sun)  {:6.3f}                                                                                                ? Estimated metallicity (dex)    31\n",
      " E_B-V_ float32           mag  {:6.3f}                                                                                                     ? Estimated color excess    31\n",
      "     Av float32           mag  {:6.3f}                                                                                         ? Estimated absorption in the V band    31\n",
      "     R_ float32        solRad  {:7.3f}                                                                                                      ? Estimated star radius    31\n"
     ]
    }
   ],
   "source": [
    "results = v.query_object('KIC 757099')\n",
    "results[0].info()"
   ]
  },
  {
   "cell_type": "code",
   "execution_count": null,
   "id": "452f3d28-c030-4dd3-8852-7417f3490502",
   "metadata": {},
   "outputs": [],
   "source": [
    "def upd_table(table, cols, id):\n",
    "    for col in cols:\n",
    "        idx = df[df['KIC'] == id].index[0]\n",
    "        df.at[idx, col] = table[col]\n",
    "\n",
    "for id in tqdm(df['KIC']):\n",
    "    search = \"KIC \" + str(id)\n",
    "    results = v.query_object(search)\n",
    "    for catalogue in results.keys():\n",
    "        table = results[catalogue][0]\n",
    "        if catalogue == kic:\n",
    "            upd_table(table, kic_cols, id)\n",
    "        elif catalogue == gaia:\n",
    "            upd_table(table, gaia_cols, id)\n",
    "        elif gaia not in results.keys() and catalogue == gsc:\n",
    "            upd_table(table, gsc_cols, id)     "
   ]
  },
  {
   "cell_type": "code",
   "execution_count": null,
   "id": "e2ff1e51-b902-4f11-a049-70a152fb041e",
   "metadata": {},
   "outputs": [],
   "source": [
    "df = df.replace(to_replace=-1.0, value=np.nan)\n",
    "df = df.replace(to_replace=-999, value=np.nan)\n",
    "df = df.replace(to_replace='NaN', value=np.nan)\n",
    "df = df.replace(to_replace='--', value=np.nan)\n",
    "df = df.replace(to_replace=np.inf, value=np.nan)\n",
    "df = df.replace(to_replace=-np.inf, value=np.nan)\n",
    "df = df.dropna()\n",
    "df.to_csv(\"../output/rf_inp.csv\", index=False)"
   ]
  }
 ],
 "metadata": {
  "kernelspec": {
   "display_name": "Python 3 (ipykernel)",
   "language": "python",
   "name": "python3"
  },
  "language_info": {
   "codemirror_mode": {
    "name": "ipython",
    "version": 3
   },
   "file_extension": ".py",
   "mimetype": "text/x-python",
   "name": "python",
   "nbconvert_exporter": "python",
   "pygments_lexer": "ipython3",
   "version": "3.9.12"
  }
 },
 "nbformat": 4,
 "nbformat_minor": 5
}
