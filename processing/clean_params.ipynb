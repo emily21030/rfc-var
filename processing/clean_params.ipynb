{
 "cells": [
  {
   "cell_type": "code",
   "execution_count": 15,
   "id": "ed45599b-90de-45e0-890a-80022f18014e",
   "metadata": {},
   "outputs": [],
   "source": [
    "import warnings \n",
    "warnings.filterwarnings(\"ignore\")\n",
    "import pandas as pd\n",
    "import numpy as np\n",
    "import math\n",
    "from tqdm.notebook import tqdm\n",
    "from astropy.io import fits\n",
    "import matplotlib.pyplot as plt\n",
    "\n",
    "pd.set_option('display.max_columns', None)"
   ]
  },
  {
   "cell_type": "code",
   "execution_count": 20,
   "id": "b64c9131-5d4b-41fc-9eaf-0ea53388674a",
   "metadata": {},
   "outputs": [
    {
     "data": {
      "application/vnd.jupyter.widget-view+json": {
       "model_id": "09c5ff6c30954d3e9ce48bcaae1ebdc2",
       "version_major": 2,
       "version_minor": 0
      },
      "text/plain": [
       "  0%|          | 0/193204 [00:00<?, ?it/s]"
      ]
     },
     "metadata": {},
     "output_type": "display_data"
    }
   ],
   "source": [
    "ffi = pd.read_csv(\"../data/lc_data_new.out\", header=0)\n",
    "ffi = ffi.iloc[:193204]\n",
    "\n",
    "# Calculate stats for FFI\n",
    "\n",
    "ffi['Mean_Flux'] = None\n",
    "ffi['stdev'] = None\n",
    "ffi['Average_Error'] = None\n",
    "ffi['Jitter'] = None\n",
    "\n",
    "for j in range(1, 53):\n",
    "    ffi['sigma_' + str(j)] = None\n",
    "\n",
    "for i in tqdm(ffi.index):\n",
    "    mean = np.mean(ffi.iloc[i, 1:53])\n",
    "    ffi.at[i, 'Mean_Flux'] = mean\n",
    "    \n",
    "    err = np.median(ffi.iloc[i, 57:109])\n",
    "    ffi.at[i, 'Average_Error'] = err\n",
    "    \n",
    "    stdev = np.std(ffi.iloc[i, 1:53])\n",
    "    \n",
    "    # Update stdev according to outliers in first 9 measurements\n",
    "    missing = []\n",
    "    for j in range(1, 9):\n",
    "        sigma_n = (ffi.iloc[i, j] - mean) / stdev\n",
    "        if sigma_n < -3:\n",
    "            missing.append(j)\n",
    "    drop = ffi\n",
    "    if len(missing) > 0:\n",
    "        for k in missing:\n",
    "            drop = drop.drop(drop.columns[k], axis=1)\n",
    "        stdev = np.std(drop.iloc[i, 123:len(drop.columns) - 2])\n",
    "    \n",
    "    ffi.at[i, 'stdev'] = stdev\n",
    "    \n",
    "    for j in range(1, 53):\n",
    "        sigma_n = (ffi.iloc[i, j] - mean) / stdev\n",
    "        ffi.at[i, 'sigma_' + str(j)] = sigma_n\n",
    "\n",
    "    if (stdev**2 - err**2) > 0:\n",
    "        jitter = math.sqrt(stdev**2 - err**2)\n",
    "        ffi.at[i, 'Jitter'] = jitter\n",
    "    \n",
    "    ffi['KIC'] = ffi['KIC'].astype(int) \n",
    "\n",
    "ffi.to_csv(\"../output/Kepler_FFI_Stats.csv\", index=False)"
   ]
  },
  {
   "cell_type": "code",
   "execution_count": 21,
   "id": "cdf5b7be-90a8-4fe0-82a0-e2fba0885eb4",
   "metadata": {},
   "outputs": [
    {
     "data": {
      "application/vnd.jupyter.widget-view+json": {
       "model_id": "0faed2d42a744acca882639c5f06e99d",
       "version_major": 2,
       "version_minor": 0
      },
      "text/plain": [
       "  0%|          | 0/155070 [00:00<?, ?it/s]"
      ]
     },
     "metadata": {},
     "output_type": "display_data"
    }
   ],
   "source": [
    "# Import and clean data\n",
    "\n",
    "def clean(cpcb):\n",
    "    cpcb = cpcb.replace(to_replace=-1.0, value=np.nan)\n",
    "    cpcb = cpcb.replace(to_replace=-999, value=np.nan)\n",
    "    cpcb = cpcb.replace(to_replace='NaN', value=np.nan)\n",
    "    cpcb = cpcb.replace(to_replace='--', value=np.nan)\n",
    "    cpcb = cpcb.replace(to_replace=np.inf, value=np.nan)\n",
    "    cpcb = cpcb.replace(to_replace=-np.inf, value=np.nan)\n",
    "    cpcb = cpcb.dropna() \n",
    "    return cpcb\n",
    "\n",
    "cpcb = pd.read_csv(\"../data/kepler_km_full_flag.csv\")\n",
    "cpcb = cpcb.iloc[:, :2]\n",
    "cpcb.rename(columns = {'Unnamed: 0':'KIC', 'cpcb1_flag':'cpcb'}, inplace = True)\n",
    "cpcb = clean(cpcb)\n",
    "\n",
    "eb = pd.read_csv(\"../data/eb.csv\") # from Kepler Eclipsing Binary Catalogue\n",
    "eb = eb[['KIC']]\n",
    "eb['eb'] = 1.0\n",
    "\n",
    "e1 = pd.read_csv(\"../output/errors1.csv\")\n",
    "e2 = pd.read_csv(\"../output/errors2.csv\")\n",
    "e3 = pd.read_csv(\"../output/errors3.csv\")\n",
    "e4 = pd.read_csv(\"../output/errors4.csv\")\n",
    "p1 = pd.read_csv(\"../output/params1.csv\")\n",
    "p2 = pd.read_csv(\"../output/params2.csv\")\n",
    "p3 = pd.read_csv(\"../output/params3.csv\")\n",
    "p4 = pd.read_csv(\"../output/params4.csv\")\n",
    "\n",
    "errors = pd.concat([e1, e2, e3, e4], ignore_index=True)\n",
    "\n",
    "df = pd.merge(cpcb, ffi, how='right', on='KIC')\n",
    "df = pd.merge(eb, df, how='right', on='KIC')\n",
    "df.replace(to_replace=np.nan, value=0.0, inplace=True)\n",
    "\n",
    "df = pd.merge(errors, df, how='inner', on='KIC')\n",
    "\n",
    "params = pd.concat([p1, p2, p3, p4], ignore_index=True)\n",
    "\n",
    "for i in tqdm(params.index):\n",
    "    for col in params.columns[1:]:\n",
    "        lst = params[col][i].strip('[] ,').replace(',', '').split()\n",
    "        lst = [float(j) for j in lst]\n",
    "        params.at[i, col] = lst\n",
    "\n",
    "# obs = pd.read_csv(\"obs_info.txt\", sep=' ', names=[\"Time\", \"Orientation\", \"Year\"])"
   ]
  },
  {
   "cell_type": "code",
   "execution_count": 22,
   "id": "5fb28e33-e905-447a-b812-743c92d1910f",
   "metadata": {},
   "outputs": [],
   "source": [
    "df.to_csv(\"../output/Kepler_FFI_Fits.csv\", index=False)\n",
    "params.to_csv(\"../output/Kepler_FFI_Params.csv\", index=False)"
   ]
  }
 ],
 "metadata": {
  "kernelspec": {
   "display_name": "Python 3 (ipykernel)",
   "language": "python",
   "name": "python3"
  },
  "language_info": {
   "codemirror_mode": {
    "name": "ipython",
    "version": 3
   },
   "file_extension": ".py",
   "mimetype": "text/x-python",
   "name": "python",
   "nbconvert_exporter": "python",
   "pygments_lexer": "ipython3",
   "version": "3.9.12"
  }
 },
 "nbformat": 4,
 "nbformat_minor": 5
}
