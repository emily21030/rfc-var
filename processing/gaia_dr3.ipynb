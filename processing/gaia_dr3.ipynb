{
 "cells": [
  {
   "cell_type": "code",
   "execution_count": null,
   "id": "66eee0bc-a280-4f19-ab34-c09a365c0a20",
   "metadata": {},
   "outputs": [],
   "source": [
    "# Pulls GAIA/KIC/GSC data on stellar properties and adds to variability labels"
   ]
  },
  {
   "cell_type": "code",
   "execution_count": 2,
   "id": "f7c4d10f-4d99-475f-9818-f9874a6beea9",
   "metadata": {},
   "outputs": [],
   "source": [
    "import warnings \n",
    "warnings.filterwarnings(\"ignore\")\n",
    "from astropy.io import fits\n",
    "from astropy.table import Table\n",
    "import pandas as pd\n",
    "import numpy as np\n",
    "from tqdm.notebook import tqdm"
   ]
  },
  {
   "cell_type": "code",
   "execution_count": 3,
   "id": "8e04dc16-6edd-41a8-bdc5-6ccda4e432b2",
   "metadata": {},
   "outputs": [],
   "source": [
    "cols = ['teff', 'logg', 'jmag', 'kmag', 'feh', 'radius', 'mass', 'ra', 'dec', 'parallax', 'pmra', 'pmdec']\n",
    "missing = ['gmag', 'rmag', 'imag', 'zmag', 'E_B-V_', 'Av']\n",
    "\n",
    "df = pd.read_csv(\"../data/lc_data_new.out\")\n",
    "\n",
    "df = df[['KIC']]\n",
    "\n",
    "# df[cols] = None\n",
    "\n",
    "data = Table.read('../data/kepler_dr3_good.fits', format='fits')\n",
    "data = data.to_pandas()\n",
    "data = data.rename(columns={'kepid':'KIC'})\n",
    "cols.append('KIC')\n",
    "merge = pd.merge(df, data[cols], how='inner', on='KIC')"
   ]
  },
  {
   "cell_type": "code",
   "execution_count": 5,
   "id": "c33b9e90-489b-4d6a-89ec-27498aeb9832",
   "metadata": {},
   "outputs": [
    {
     "data": {
      "text/plain": [
       "Index(['KIC', 'ra_kic', 'dec_kic', 'source_id', 'random_index', 'ra', 'dec',\n",
       "       'parallax', 'parallax_error', 'parallax_over_error', 'pmra',\n",
       "       'pmra_error', 'pmdec', 'pmdec_error', 'astrometric_params_solved',\n",
       "       'pseudocolour', 'pseudocolour_error', 'ipd_frac_multi_peak',\n",
       "       'ipd_frac_odd_win', 'ruwe', 'phot_g_mean_flux_over_error',\n",
       "       'phot_g_mean_mag', 'phot_bp_mean_flux_over_error', 'phot_bp_mean_mag',\n",
       "       'phot_rp_mean_flux_over_error', 'phot_rp_mean_mag',\n",
       "       'phot_bp_rp_excess_factor', 'bp_rp', 'radial_velocity',\n",
       "       'radial_velocity_error', 'rv_nb_transits', 'rv_expected_sig_to_noise',\n",
       "       'rv_renormalised_gof', 'rv_chisq_pvalue', 'phot_variable_flag', 'l',\n",
       "       'b', 'in_qso_candidates', 'in_galaxy_candidates', 'non_single_star',\n",
       "       'has_xp_continuous', 'has_xp_sampled', 'has_rvs',\n",
       "       'has_epoch_photometry', 'has_epoch_rv', 'has_mcmc_gspphot',\n",
       "       'has_mcmc_msc', 'in_andromeda_survey', 'teff_gspphot', 'logg_gspphot',\n",
       "       'mh_gspphot', 'distance_gspphot', 'ag_gspphot', 'ebpminrp_gspphot',\n",
       "       'angdist', 'kepler_gaia_ang_dist', 'pm_corrected', 'tm_designation',\n",
       "       'kepmag', 'teff', 'teff_err1', 'teff_err2', 'teff_prov', 'logg',\n",
       "       'logg_err1', 'logg_err2', 'logg_prov', 'feh', 'feh_err1', 'feh_err2',\n",
       "       'feh_prov', 'radius', 'radius_err1', 'radius_err2', 'mass', 'mass_err1',\n",
       "       'mass_err2', 'prov_sec', 'nconfp', 'nkoi', 'ntce', 'jmag', 'hmag',\n",
       "       'kmag', 'planet?', 'kepler_gaia_mag_diff'],\n",
       "      dtype='object')"
      ]
     },
     "execution_count": 5,
     "metadata": {},
     "output_type": "execute_result"
    }
   ],
   "source": [
    "data.columns"
   ]
  },
  {
   "cell_type": "code",
   "execution_count": null,
   "id": "593b5714-3014-4989-bfb8-801950217cf4",
   "metadata": {},
   "outputs": [],
   "source": [
    "merge.to_csv(\"rf_inp.csv\", index=False)"
   ]
  }
 ],
 "metadata": {
  "kernelspec": {
   "display_name": "Python 3 (ipykernel)",
   "language": "python",
   "name": "python3"
  },
  "language_info": {
   "codemirror_mode": {
    "name": "ipython",
    "version": 3
   },
   "file_extension": ".py",
   "mimetype": "text/x-python",
   "name": "python",
   "nbconvert_exporter": "python",
   "pygments_lexer": "ipython3",
   "version": "3.9.12"
  }
 },
 "nbformat": 4,
 "nbformat_minor": 5
}
