{
 "cells": [
  {
   "cell_type": "code",
   "execution_count": 20,
   "id": "dce6d826-33df-42fc-a6fb-fad56070fda2",
   "metadata": {},
   "outputs": [],
   "source": [
    "import numpy as np\n",
    "from astropy.io import fits\n",
    "import matplotlib.pyplot as plt\n",
    "from scipy.optimize import curve_fit\n",
    "import pandas as pd\n",
    "import sys\n",
    "import sklearn\n",
    "import scipy\n",
    "import math\n",
    "from tqdm.notebook import tqdm\n",
    "pd.set_option('display.max_columns', None)"
   ]
  },
  {
   "cell_type": "code",
   "execution_count": 12,
   "id": "28647678-f032-4378-a312-70b9adc2614c",
   "metadata": {},
   "outputs": [],
   "source": [
    "# load the file with all the data for the stars\n",
    "a = pd.read_csv('../data/lc_data_new.txt')\n",
    "a = a.to_numpy()"
   ]
  },
  {
   "cell_type": "code",
   "execution_count": 4,
   "id": "04313654-e242-423e-b81e-47b192f8729a",
   "metadata": {},
   "outputs": [],
   "source": [
    "# the time points of all the data points in order\n",
    "\n",
    "times = np.asarray([54945.74206,54945.8670833,54946.0182163,54946.2335259,54946.3377372,54946.5495655,54946.7334679,\n",
    "         54947.1662509,55062.8253608,55091.0055606,55123.0864583,55153.9797114,55182.0366329,55215.9548927,\n",
    "         55216.0352649,55245.7660019,55274.7398619,55307.5350333,55336.4281441,55370.695297,55399.0571196,\n",
    "         55430.8109392,55461.8291274,55492.8064711,55522.7621353,55552.0843583,55585.5760016,55614.7389024,\n",
    "         55677.4444762,55706.6440223,55738.4591443,55769.477399,55801.7624176,55832.8010616,55864.8001316,\n",
    "         55895.757043,55930.8619526,55958.4268791,55986.5230115,56014.5579184,56047.5173675,56077.4525238,\n",
    "         56105.5895974,56137.5273556,56168.8315615,56203.8547584,56236.834641,56267.9141396,56303.6729488,\n",
    "         56330.563549,56357.495041,56390.4952381]) - 54833"
   ]
  },
  {
   "cell_type": "code",
   "execution_count": 5,
   "id": "eb71d5b7-81bc-4c73-afea-fc113d3413df",
   "metadata": {},
   "outputs": [],
   "source": [
    "# a model for a sine curve\n",
    "def func(x, a, b, c, d):\n",
    "    return a*np.sin(b * x + c) + d \n",
    "\n",
    "# a model for a straight line\n",
    "def straightLine(x, m, b):\n",
    "    return m*x + b\n",
    "\n",
    "# a model for a sinecurve that is tiled on an axis\n",
    "def func_tilt(x, a, b, c, d, e):\n",
    "    return a*np.sin(b * x + c) + d + e*x\n",
    "\n",
    "# a model for a straight line\n",
    "def flatLine(x, b):\n",
    "    return b"
   ]
  },
  {
   "cell_type": "code",
   "execution_count": 6,
   "id": "91110fe4-0a7d-4787-82f5-8b1eb6813223",
   "metadata": {},
   "outputs": [],
   "source": [
    "# given the parameters of a light curve and its corresponding default sinecurve fit\n",
    "# calculates the error of the fit\n",
    "# returns\n",
    "# error_l1: the l1 error of the fit\n",
    "# error_l2: the l2 error of the fit\n",
    "def calculate_error(fn, times, params, flux, yerr):\n",
    "    error_l1 = np.sum(np.abs(fn(times, *params) - flux)/yerr)\n",
    "    error_l2 = np.sum( ((fn(times, *params) - flux) ** 2 )/ (yerr ** 2 ))\n",
    "        \n",
    "    return error_l1, error_l2"
   ]
  },
  {
   "cell_type": "code",
   "execution_count": 7,
   "id": "29a096c6-9bd5-4f31-9c71-64bba7403510",
   "metadata": {},
   "outputs": [],
   "source": [
    "# given the data points of the flux of the starts, forcefully calculates the best straight line fit\n",
    "# best sinecurve fit is defined by finding which curve returns the smallest error \n",
    "# uses the function calulate_error_line\n",
    "# returns\n",
    "# params: the parameters of the best straight line fit\n",
    "# min_error_l1: the error of the above curve \n",
    "# min_error_l2: the error of the above curve \n",
    "def fit_line(fn, flux, times, yerr):\n",
    "    \n",
    "    params, pcov = curve_fit(fn, times, flux, maxfev=50000)\n",
    "    error_l1, error_l2 = calculate_error(fn, times, params, flux, yerr)\n",
    "    \n",
    "    return error_l1, error_l2, params"
   ]
  },
  {
   "cell_type": "code",
   "execution_count": 8,
   "id": "e175c000-224e-4a68-bace-49541b46bf9a",
   "metadata": {},
   "outputs": [],
   "source": [
    "# given the data points of the flux of the starts, forcefully calculates the best titled sine curve fit\n",
    "# best sinecurve fit is defined by finding which curve returns the smallest error \n",
    "# uses the function calulate_error_tilt\n",
    "# returns\n",
    "# best_params_l1: the parameters of the sinecurve that fits the best using the l1 error\n",
    "# min_error_l1: the error of the above curve \n",
    "# best_params_l2: the parameters of the sinecurve that fits the best using the l2 error\n",
    "# min_error_l2: the error of the above curve \n",
    "def fit_curve(fn, flux, times, yerr):\n",
    "    min_error_l1 = sys.maxsize\n",
    "    best_params_l1 = [0] * 4\n",
    "    best_params_l2 = [0] * 4\n",
    "    min_error_l2 = sys.maxsize\n",
    "    for n in np.linspace(0,0.1,100):\n",
    "        if fn == func:\n",
    "            try:\n",
    "                params, pcov = curve_fit(fn, times, flux, p0 = [0.01, n, 0, 1], maxfev=50000)\n",
    "            except RuntimeError:\n",
    "                continue\n",
    "        elif fn == func_tilt:\n",
    "            try:\n",
    "                params, pcov = curve_fit(fn, times, flux, p0 = [0.01, n, 0, 1, 0.001], maxfev=50000)\n",
    "            except RuntimeError:\n",
    "                continue\n",
    "        error_l1, error_l2 = calculate_error(fn, times, params, flux, yerr)\n",
    "        if error_l1 < min_error_l1:\n",
    "            min_error_l1 = error_l1\n",
    "            best_params_l1 = params\n",
    "            \n",
    "        if error_l2 < min_error_l2:\n",
    "            min_error_l2 = error_l2\n",
    "            best_params_l2 = params\n",
    "    \n",
    "    return best_params_l1, min_error_l1, best_params_l2, min_error_l2"
   ]
  },
  {
   "cell_type": "code",
   "execution_count": null,
   "id": "f30bcfd1-dacc-4b7a-b61d-9ace24fd4223",
   "metadata": {},
   "outputs": [
    {
     "data": {
      "application/vnd.jupyter.widget-view+json": {
       "model_id": "ec55c3735ba64bab8367801d5c76b814",
       "version_major": 2,
       "version_minor": 0
      },
      "text/plain": [
       "  0%|          | 0/10 [00:00<?, ?it/s]"
      ]
     },
     "metadata": {},
     "output_type": "display_data"
    }
   ],
   "source": [
    "# dictionary to store data\n",
    "data = {'KIC': [], \n",
    "        'curveErrorL1': [],\n",
    "        'curveErrorL2': [],\n",
    "        'straightLineErrorL1': [],\n",
    "        'straightLineErrorL2': [],\n",
    "        'curtilErrorL1': [],\n",
    "        'curtilErrorL2': [],\n",
    "        'flatLineErrorL1': [],\n",
    "       'flatLineErrorL2': [],}\n",
    "\n",
    "params = {'KIC': [], \n",
    "        'curveParamL1': [],\n",
    "        'curveParamL2': [],\n",
    "        'straightLineParam': [],\n",
    "        'curtilParamL1': [],\n",
    "        'curtilParamL2': [],\n",
    "        'flatLineParam': []}\n",
    "\n",
    "#loop to go through all the stars\n",
    "for i in tqdm(range(len(a))):\n",
    "    id = a[i][0]\n",
    "    flux = a[a[:,0] == id][0][1:53]\n",
    "    yerr = a[a[:,0] == id][0][57:]\n",
    "    if not np.isfinite(flux).all():\n",
    "        continue\n",
    "    if \n",
    "    \n",
    "    curve_p_l1, curve_e_l1, curve_p_l2, curve_e_l2 = fit_curve(func, flux, times, yerr)\n",
    "    straight_e_l1, straight_e_l2, straight_p = fit_line(straightLine, flux, times, yerr)\n",
    "    curtil_p_l1, curtil_e_l1, curtil_p_l2, curtil_e_l2 = fit_curve(func_tilt, flux, times, yerr)\n",
    "    flat_e_l1, flat_e_l2, flat_p = fit_line(flatLine, flux, times, yerr)\n",
    "    \n",
    "    data['KIC'].append(id)\n",
    "    data['curveErrorL1'].append(curve_e_l1)\n",
    "    data['curveErrorL2'].append(curve_e_l2)\n",
    "    data['straightLineErrorL1'].append(straight_e_l1)\n",
    "    data['straightLineErrorL2'].append(straight_e_l2)\n",
    "    data['curtilErrorL1'].append(curtil_e_l1)\n",
    "    data['curtilErrorL2'].append(curtil_e_l2)\n",
    "    data['flatLineErrorL1'].append(flat_e_l1)\n",
    "    data['flatLineErrorL2'].append(flat_e_l2)\n",
    "    \n",
    "    params['KIC'].append(id)\n",
    "    params['curveParamL1'].append(curve_p_l1)\n",
    "    params['curveParamL2'].append(curve_p_l2)\n",
    "    params['straightLineParam'].append(straight_p)\n",
    "    params['curtilParamL1'].append(curtil_p_l1)\n",
    "    params['curtilParamL2'].append(curtil_p_l2)\n",
    "    params['flatLineParam'].append(flat_p)"
   ]
  },
  {
   "cell_type": "code",
   "execution_count": 19,
   "id": "6fd01b58-a2fc-40e2-891a-a032eaf027d7",
   "metadata": {},
   "outputs": [],
   "source": [
    "# ran in 4 parts on multi-core processor, outputted 4 separate files for each csv\n",
    "\n",
    "df = pd.DataFrame(data, columns = ['KIC', 'curveErrorL1', 'curveErrorL2', \n",
    "                                   'straightLineErrorL1', 'straightLineErrorL2',\n",
    "                                   'curtilErrorL1', 'curtilErrorL2', 'flatLineErrorL1',\n",
    "                                   'flatLineErrorL2'])\n",
    "\n",
    "df.to_csv(\"../output/errors.csv\", index=False)\n",
    "\n",
    "params_df = pd.DataFrame(params, columns = ['KIC', 'curveParamL1', 'curveParamL2', \n",
    "                                         'straightLineParam', 'curtilParamL1', 'curtilParamL2',\n",
    "                                         'flatLineParam'])\n",
    "params_df.to_csv(\"../output/params.csv\", index=False)"
   ]
  }
 ],
 "metadata": {
  "kernelspec": {
   "display_name": "Python 3 (ipykernel)",
   "language": "python",
   "name": "python3"
  },
  "language_info": {
   "codemirror_mode": {
    "name": "ipython",
    "version": 3
   },
   "file_extension": ".py",
   "mimetype": "text/x-python",
   "name": "python",
   "nbconvert_exporter": "python",
   "pygments_lexer": "ipython3",
   "version": "3.9.12"
  }
 },
 "nbformat": 4,
 "nbformat_minor": 5
}
