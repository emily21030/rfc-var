{
 "cells": [
  {
   "cell_type": "code",
   "execution_count": 113,
   "id": "f43c2e9c-1c6f-481c-8165-09d1fc2c0c51",
   "metadata": {},
   "outputs": [],
   "source": [
    "import warnings \n",
    "warnings.filterwarnings(\"ignore\")\n",
    "from astroquery.vizier import Vizier\n",
    "from astropy.coordinates import Angle\n",
    "import pandas as pd\n",
    "import numpy as np\n",
    "from tqdm.notebook import tqdm"
   ]
  },
  {
   "cell_type": "code",
   "execution_count": 104,
   "id": "c66e30ee-0712-48ff-a4f3-7f19a761fa12",
   "metadata": {},
   "outputs": [],
   "source": [
    "roo = pd.read_csv(\"../ROOSTER_Final/Prot_pred\")\n",
    "roo[kic_cols] = None\n",
    "roo[gaia_cols] = None"
   ]
  },
  {
   "cell_type": "code",
   "execution_count": 106,
   "id": "4c8d59dc-13b6-4b95-b13f-90188c7a0a48",
   "metadata": {},
   "outputs": [],
   "source": [
    "kic_cols = ['gmag', 'rmag', 'imag', 'zmag', 'Jmag', 'Kmag', '__Fe_H_', 'E_B-V_', 'Av', 'R_']\n",
    "gaia_cols = ['RA_ICRS', 'DE_ICRS', 'Plx', 'pmRA', 'pmDE']\n",
    "gsc_cols = ['RA_ICRS', 'DE_ICRS', 'plx', 'pmRA', 'pmDE']"
   ]
  },
  {
   "cell_type": "code",
   "execution_count": 125,
   "id": "8c96d226-aa7c-4d63-90e7-641a0985b884",
   "metadata": {},
   "outputs": [],
   "source": [
    "kic = 'V/133/kic'\n",
    "gaia = 'I/355/gaiadr3'\n",
    "gsc = 'I/353/gsc242'\n",
    "\n",
    "v = Vizier(catalog=[kic, gaia, gsc], columns=[\"**\", \"+_r\"])\n",
    "\n",
    "def upd_table(table, cols, id):\n",
    "    for col in cols:\n",
    "        idx = roo[roo['KIC'] == id].index[0]\n",
    "        roo.at[idx, col] = table[col]\n",
    "\n",
    "for id in tqdm(roo['KIC']):\n",
    "    search = \"KIC \" + str(id)\n",
    "    results = v.query_object(search)\n",
    "    for catalogue in results.keys():\n",
    "        table = results[catalogue][0]\n",
    "        if catalogue == kic:\n",
    "            upd_table(table, kic_cols, id)\n",
    "        elif catalogue == gaia:\n",
    "            upd_table(table, gaia_cols, id)\n",
    "        elif gaia not in results.keys() and catalogue == gsc:\n",
    "            upd_table(table, gsc_cols, id)     "
   ]
  },
  {
   "cell_type": "code",
   "execution_count": 130,
   "id": "e2ff1e51-b902-4f11-a049-70a152fb041e",
   "metadata": {},
   "outputs": [],
   "source": [
    "roo.to_csv(\"../Raw_Data/ROOSTER_Data/ROO_Gaia.csv\", index=False)"
   ]
  }
 ],
 "metadata": {
  "kernelspec": {
   "display_name": "Python 3 (ipykernel)",
   "language": "python",
   "name": "python3"
  },
  "language_info": {
   "codemirror_mode": {
    "name": "ipython",
    "version": 3
   },
   "file_extension": ".py",
   "mimetype": "text/x-python",
   "name": "python",
   "nbconvert_exporter": "python",
   "pygments_lexer": "ipython3",
   "version": "3.9.12"
  }
 },
 "nbformat": 4,
 "nbformat_minor": 5
}
