{
 "cells": [
  {
   "cell_type": "code",
   "execution_count": null,
   "id": "cca509d6-4750-4014-91b8-a439bff9eaaf",
   "metadata": {},
   "outputs": [],
   "source": [
    "# RFC predicts variability labels from input set (basic stellar prop.)"
   ]
  },
  {
   "cell_type": "code",
   "execution_count": null,
   "id": "eddfb511-f5bf-4ff9-ad41-ca188ebad4c8",
   "metadata": {},
   "outputs": [],
   "source": [
    "import warnings \n",
    "warnings.filterwarnings(\"ignore\")\n",
    "\n",
    "import numpy as np\n",
    "import pandas as pd\n",
    "import matplotlib.pyplot as plt\n",
    "import math\n",
    "import seaborn as sns\n",
    "from pushkin.train import train_rf\n",
    "from pushkin.classify import classify\n",
    "from os import path\n",
    "from tqdm.notebook import tqdm\n",
    "\n",
    "from imblearn.over_sampling import SMOTEN, BorderlineSMOTE, SVMSMOTE, ADASYN\n",
    "from imblearn.under_sampling import RandomUnderSampler\n",
    "from imblearn.combine import SMOTEENN, SMOTETomek\n",
    "from imblearn.pipeline import Pipeline\n",
    "\n",
    "from sklearn.model_selection import train_test_split\n",
    "from sklearn.preprocessing import StandardScaler, LabelEncoder, label_binarize\n",
    "from sklearn.ensemble import RandomForestClassifier\n",
    "from sklearn.metrics import balanced_accuracy_score, accuracy_score, confusion_matrix, classification_report\n",
    "from sklearn.model_selection import cross_val_score"
   ]
  },
  {
   "cell_type": "code",
   "execution_count": null,
   "id": "080d1e96-5253-4dbd-93ce-a02b1b113048",
   "metadata": {},
   "outputs": [],
   "source": [
    "df = pd.read_csv(\"../output/rf_train.csv\")\n",
    "vt = pd.read_csv(\"../output/rf_labels_2.csv\")"
   ]
  },
  {
   "cell_type": "code",
   "execution_count": null,
   "id": "92805d44-6f82-48ab-ad47-390b20a427c5",
   "metadata": {},
   "outputs": [],
   "source": [
    "simp = vt.replace('st', 'var')\n",
    "simp = simp.replace('mt', 'var')\n",
    "simp = simp.replace('lt', 'var')"
   ]
  },
  {
   "cell_type": "code",
   "execution_count": null,
   "id": "b41ee85a-96c6-4d19-a0e0-784dc20c1855",
   "metadata": {},
   "outputs": [],
   "source": [
    "df = df[simp['vt'] != 'eb']\n",
    "simp = simp[simp['vt'] != 'eb']"
   ]
  },
  {
   "cell_type": "code",
   "execution_count": null,
   "id": "001e79b0-c7e4-4e46-a22f-5f2c23489c7f",
   "metadata": {},
   "outputs": [],
   "source": [
    "cols = ['KIC', 'Mass', 'Teff', 'logg', '[Fe/H]', 'Rad', 'rho', 'Lum', 'Age', 'f_Age', 'Avmag', 'GOF', 'TAMS']"
   ]
  },
  {
   "cell_type": "code",
   "execution_count": null,
   "id": "66ec6b5b-5127-4e6f-ab7c-804d5ffad7f2",
   "metadata": {},
   "outputs": [],
   "source": [
    "# Split training and test sets\n",
    "\n",
    "sc = StandardScaler()\n",
    "\n",
    "x_labelled = df[cols] # no flux data, only prop\n",
    "y_labelled = vt\n",
    "\n",
    "x_og = x_labelled.iloc[:, 1:]\n",
    "y_og = y_labelled.iloc[:, 1:]\n",
    "\n",
    "x_og_t = sc.fit_transform(x_og)"
   ]
  },
  {
   "cell_type": "code",
   "execution_count": null,
   "id": "495689fb-0a1e-47d4-8242-cf94e7e4a394",
   "metadata": {},
   "outputs": [],
   "source": [
    "y_og.value_counts()"
   ]
  },
  {
   "cell_type": "code",
   "execution_count": null,
   "id": "49982024-82be-43a2-8597-c28790a06a55",
   "metadata": {},
   "outputs": [],
   "source": [
    "over_strat = {'lt': 10000, 'mt':10000, 'eb':10000}\n",
    "under_strat = {'nv':10000, 'st': 10000}"
   ]
  },
  {
   "cell_type": "code",
   "execution_count": null,
   "id": "c7fd0ab5-d1f7-4df1-91c5-7c11a9fc78af",
   "metadata": {},
   "outputs": [],
   "source": [
    "# define pipeline for over then undersampling\n",
    "over = BorderlineSMOTE(sampling_strategy=over_strat, random_state=0)\n",
    "under = RandomUnderSampler(sampling_strategy=under_strat, random_state=0)\n",
    "\n",
    "steps = [('o', over), ('u', under)]\n",
    "pipeline = Pipeline(steps=steps)\n",
    "\n",
    "# transform the dataset\n",
    "x, y = pipeline.fit_resample(x_og, y_og)"
   ]
  },
  {
   "cell_type": "code",
   "execution_count": null,
   "id": "2813e082-02be-4d4d-9178-2de2fe9b468a",
   "metadata": {},
   "outputs": [],
   "source": [
    "smote = SMOTEN(random_state=0)\n",
    "x_smote, y_smote = smote.fit_resample(x_og, y_og)\n",
    "\n",
    "# similar to smote, slightly better\n",
    "border = BorderlineSMOTE(random_state=0)\n",
    "x_border, y_border = border.fit_resample(x_og, y_og)\n",
    "\n",
    "# bad\n",
    "svm = SVMSMOTE(random_state=0)\n",
    "x_svm, y_svm = svm.fit_resample(x_og, y_og)\n",
    "\n",
    "# also bad\n",
    "adasyn = ADASYN(random_state=0)\n",
    "x_adasyn, y_adasyn = adasyn.fit_resample(x_og, y_og)"
   ]
  },
  {
   "cell_type": "code",
   "execution_count": null,
   "id": "08a1fb0d-04f8-4965-adc7-e53159ca1060",
   "metadata": {},
   "outputs": [],
   "source": [
    "# combined over and undersampling\n",
    "\n",
    "sme = SMOTEENN(random_state=0)\n",
    "x_sme, y_sme = sme.fit_resample(x_og, y_og)\n",
    "\n",
    "tomek = SMOTETomek(random_state=0)\n",
    "x_tomek, y_tomek = tomek.fit_resample(x_og, y_og)"
   ]
  },
  {
   "cell_type": "code",
   "execution_count": null,
   "id": "9c3fbc40-a5f8-439e-a4a3-f6cefbaf9510",
   "metadata": {},
   "outputs": [],
   "source": [
    "x_train, x_test, y_train, y_test = train_test_split(x, y, test_size=0.1)\n",
    "x_test, x_val, y_test, y_val = train_test_split(x_test, y_test, test_size=0.5)\n",
    "\n",
    "x_train_t = sc.transform(x_train)\n",
    "x_test_t = sc.transform(x_test)\n",
    "x_val_t = sc.transform(x_val)"
   ]
  },
  {
   "cell_type": "code",
   "execution_count": null,
   "id": "162bc02b-fa66-48e1-a0b3-59e1e0af972e",
   "metadata": {},
   "outputs": [],
   "source": [
    "# Random Forest Classifier\n",
    "\n",
    "rf = RandomForestClassifier(n_estimators=1400, criterion='gini', max_depth=100, min_samples_split=100, max_features='sqrt')\n",
    "rf.fit(x_train_t, y_train)\n",
    "\n",
    "importances = pd.Series(rf.feature_importances_, index=x.columns).sort_values(ascending=False)\n",
    "print(importances)"
   ]
  },
  {
   "cell_type": "code",
   "execution_count": null,
   "id": "8bac2274-62b7-4d78-9a0d-29baad920201",
   "metadata": {},
   "outputs": [],
   "source": [
    "# Evaluating the model\n",
    "\n",
    "rfc_cv_score = cross_val_score(rf, x_val_t, label_binarize(y_val, classes=rf.classes_.tolist()), cv=10, scoring='roc_auc', error_score='raise')"
   ]
  },
  {
   "cell_type": "code",
   "execution_count": null,
   "id": "289a2f5e-3cea-41fe-8096-a21deef30814",
   "metadata": {},
   "outputs": [],
   "source": [
    "y_inp = y_val\n",
    "y_pred = rf.predict(x_val_t)\n",
    "\n",
    "print(\"=== Confusion Matrix ===\")\n",
    "print(confusion_matrix(y_inp, y_pred))\n",
    "print('\\n')\n",
    "print(\"=== Classification Report ===\")\n",
    "print(classification_report(y_inp, y_pred))\n",
    "print('\\n')\n",
    "print(\"=== All AUC Scores ===\")\n",
    "print(rfc_cv_score)\n",
    "print('\\n')\n",
    "print(\"=== Mean AUC Score ===\")\n",
    "print(\"Mean AUC Score: \", rfc_cv_score.mean())\n",
    "print('\\n')\n",
    "print(\"=== Balanced Accuracy Score ===\")\n",
    "print(\"Balanced Accuracy Score: \", balanced_accuracy_score(y_inp, y_pred))"
   ]
  },
  {
   "cell_type": "code",
   "execution_count": null,
   "id": "258ff071-c321-4340-ac64-53db4a3d89db",
   "metadata": {},
   "outputs": [],
   "source": [
    "# Visualize confusion matrix\n",
    "\n",
    "y_inp = y_og\n",
    "y_pred = rf.predict(x_og_t)\n",
    "\n",
    "# Get and reshape confusion matrix data\n",
    "matrix = confusion_matrix(y_inp, y_pred)\n",
    "matrix = matrix.astype('float') / matrix.sum(axis=1)[:, np.newaxis]\n",
    "\n",
    "# Build the plot\n",
    "plt.figure(figsize=(16,7))\n",
    "sns.set(font_scale=1.4)\n",
    "sns.heatmap(matrix, annot=True, annot_kws={'size':10},\n",
    "            cmap=plt.cm.Greens, linewidths=0.2)\n",
    "\n",
    "# Add labels to the plot\n",
    "class_names = rf.classes_.tolist()\n",
    "tick_marks = np.arange(len(class_names))\n",
    "tick_marks2 = tick_marks + 0.5\n",
    "plt.xticks(tick_marks, class_names, rotation=25)\n",
    "plt.yticks(tick_marks2, class_names, rotation=0)\n",
    "plt.xlabel('Predicted label')\n",
    "plt.ylabel('True label')\n",
    "plt.title('Confusion Matrix for Random Forest Model')\n",
    "plt.show()"
   ]
  },
  {
   "cell_type": "code",
   "execution_count": null,
   "id": "1c998bc5-f297-415a-9c66-17f9f0e0d717",
   "metadata": {},
   "outputs": [],
   "source": [
    "label_encoder = LabelEncoder()\n",
    "label_encoder.fit_transform(y_train)"
   ]
  },
  {
   "cell_type": "code",
   "execution_count": null,
   "id": "4f572250-c7bc-40bf-99b0-792f6ae3bb34",
   "metadata": {},
   "outputs": [],
   "source": [
    "# Visualize decision tree\n",
    "\n",
    "from dtreeviz.trees import *\n",
    "\n",
    "i = 0\n",
    "\n",
    "viz = dtreeviz(rf.estimators_[i], \n",
    "               x_data=x_train.values,\n",
    "               y_data=label_encoder.fit_transform(y_train),\n",
    "               target_name='vt',\n",
    "               feature_names=x.columns.tolist(), \n",
    "               class_names=label_encoder.classes_.tolist(), \n",
    "               title=\"Decision Tree - Balanced Training Set\")"
   ]
  },
  {
   "cell_type": "code",
   "execution_count": null,
   "id": "027e4cdf-0d8a-46d1-8935-f720421fbf33",
   "metadata": {},
   "outputs": [],
   "source": [
    "viz.view()"
   ]
  },
  {
   "cell_type": "code",
   "execution_count": null,
   "id": "d61a12a8-4838-47be-a859-4699618621d0",
   "metadata": {},
   "outputs": [],
   "source": [
    "from sklearn.model_selection import RandomizedSearchCV\n",
    "# number of trees in random forest\n",
    "n_estimators = [int(x) for x in np.linspace(start = 200, stop = 2000, num = 10)]\n",
    "# number of features at every split\n",
    "max_features = ['sqrt', 'log2']\n",
    "\n",
    "# max depth\n",
    "max_depth = [int(x) for x in np.linspace(100, 500, num = 11)]\n",
    "max_depth.append(None)\n",
    "# create random grid\n",
    "random_grid = {\n",
    " 'n_estimators': n_estimators,\n",
    " 'max_features': max_features,\n",
    " 'max_depth': max_depth\n",
    " }\n",
    "# Random search of parameters\n",
    "rfc_random = RandomizedSearchCV(estimator = rf, param_distributions = random_grid, n_iter = 5, cv = 5, verbose=2, random_state=42, n_jobs = -1)"
   ]
  },
  {
   "cell_type": "code",
   "execution_count": null,
   "id": "3cbe1960-5898-4c93-82a9-5517cc6c5dff",
   "metadata": {},
   "outputs": [],
   "source": [
    "# Fit the model\n",
    "rfc_random.fit(x_train_t, label_encoder.fit_transform(y_train.values))\n",
    "\n",
    "# print results\n",
    "print(rfc_random.best_params_)\n",
    "print(rfc_random.best_score_)"
   ]
  },
  {
   "cell_type": "code",
   "execution_count": null,
   "id": "9fdd3fa6-05a5-448f-8811-d33e1d94f950",
   "metadata": {},
   "outputs": [],
   "source": [
    "# Plot test vs val score based on max_depth\n",
    "\n",
    "param=[2, 4, 8, 16, 32, 64, None]\n",
    "train = []\n",
    "test = []\n",
    "val = []\n",
    "\n",
    "for x in param:\n",
    "    rf = RandomForestrf(n_estimators=100, max_depth=x, max_features='sqrt', min_samples_split=3)\n",
    "    rf.fit(x_train_t, y_train)\n",
    "    train.append(r2_score(rf.predict(x_train_t), y_train))\n",
    "    test.append(r2_score(rf.predict(x_test_t), y_test))\n",
    "    val.append(r2_score(rf.predict(x_val_t), y_val))    \n",
    "\n",
    "train_plot = plt.scatter(param, train)\n",
    "test_plot = plt.scatter(param, test)\n",
    "val_plot = plt.scatter(param, val)\n",
    "\n",
    "plt.legend((train_plot, test_plot, val_plot),\n",
    "           ('Train', 'Test', 'Validation'),\n",
    "           scatterpoints=1,\n",
    "           loc='best',\n",
    "           fontsize=8)\n",
    "\n",
    "# plt.xlim(0, 22)\n",
    "plt.ylim(0, 1)\n",
    "plt.xlabel('N_estimators')\n",
    "plt.ylabel('Score')\n",
    "\n",
    "plt.show()"
   ]
  }
 ],
 "metadata": {
  "kernelspec": {
   "display_name": "Python 3 (ipykernel)",
   "language": "python",
   "name": "python3"
  },
  "language_info": {
   "codemirror_mode": {
    "name": "ipython",
    "version": 3
   },
   "file_extension": ".py",
   "mimetype": "text/x-python",
   "name": "python",
   "nbconvert_exporter": "python",
   "pygments_lexer": "ipython3",
   "version": "3.9.12"
  }
 },
 "nbformat": 4,
 "nbformat_minor": 5
}
