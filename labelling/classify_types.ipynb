{
 "cells": [
  {
   "cell_type": "code",
   "execution_count": 1,
   "id": "95b08e76-568d-4dd9-846f-ff514918f69f",
   "metadata": {},
   "outputs": [],
   "source": [
    "def improvement(row, e1, p1, e2, p2):\n",
    "    m = 2\n",
    "    # returns list of KIDs where 1 fits better than 2 with BIC\n",
    "    dp = len(params.iloc[0][p2]) - len(params.iloc[0][p1])\n",
    "    de1 = row[e1]\n",
    "    de2 = row[e2] + m * dp * math.log(52)\n",
    "    corr = de1 < de2\n",
    "    if type(row) == pd.core.series.Series:\n",
    "        return corr\n",
    "    elif type(row) == pd.core.frame.DataFrame:\n",
    "        return row.loc[corr]"
   ]
  },
  {
   "cell_type": "code",
   "execution_count": 4,
   "id": "dd5c588e-e1e3-41ad-989f-ae9ac9f4ae5d",
   "metadata": {},
   "outputs": [],
   "source": [
    "def short_term():\n",
    "    # TODO: contains 62% of all EBs, composed of 5% EBs\n",
    "    \n",
    "    # flat line fit\n",
    "    # s = improvement(df, 'flatLineErrorL2', 'flatLineParam', 'straightLineErrorL2', 'straightLineParam')\n",
    "        \n",
    "    # high jitter\n",
    "    s = df[df['Jitter'] > df['Average_Error']]\n",
    "    \n",
    "    cols = ['flatLineErrorL2', 'straightLineErrorL2', 'curveErrorL2', 'curtilErrorL2']\n",
    "    \n",
    "    # high error\n",
    "    for col in cols:\n",
    "        s = s.drop(s[s[col] > 20000].index)\n",
    "    # s = s[s['curveErrorL2'] > rem['curveErrorL2'].median()]\n",
    "    \n",
    "    # > 0.5% flux variability\n",
    "    s = s[s['stdev'] > 0.005]\n",
    "    \n",
    "    # scatter plot\n",
    "    s = improvement(s, 'curveErrorL2', 'curveParamL2', 'straightLineErrorL2', 'straightLineParam')\n",
    "    return s"
   ]
  },
  {
   "cell_type": "code",
   "execution_count": null,
   "id": "2492bd76-ea55-4d43-82f3-9264aa1ce3ea",
   "metadata": {},
   "outputs": [],
   "source": [
    "# increase penalty term of BIC, multiplier of klogn"
   ]
  },
  {
   "cell_type": "code",
   "execution_count": 3,
   "id": "0abc96eb-d41d-4ca3-963d-30271c637b56",
   "metadata": {},
   "outputs": [],
   "source": [
    "def mid_term():\n",
    "    s = improvement(df, 'curveErrorL2', 'curveParamL2', 'flatLineErrorL2', 'flatLineParam')\n",
    "    s = improvement(s, 'curveErrorL2', 'curveParamL2', 'straightLineErrorL2', 'straightLineParam')\n",
    "    # s = improvement(s, 'curtilErrorL2', 'curtilParamL2', 'flatLineErrorL2', 'flatLineParam')\n",
    "    # s = improvement(s, 'curtilErrorL2', 'curtilParamL2', 'straightLineErrorL2', 'straightLineParam')\n",
    "    s = improvement(s, 'curveErrorL2', 'curveParamL2', 'curtilErrorL2', 'curtilParamL2')\n",
    "    \n",
    "    # rem = df.drop(df[df['curtilErrorL2'] > 20000].index)\n",
    "    \n",
    "    # s = s[s['curveErrorL2'] < rem['curveErrorL2'].median()]\n",
    "    # s = s[s['stdev'] / s['curtilErrorL2'] > rem['stdev'].median() / rem['curtilErrorL2'].median()]\n",
    "    \n",
    "    # > 0.1% flux variability\n",
    "    s = s[s['stdev'] > 0.001]\n",
    "    return s"
   ]
  },
  {
   "cell_type": "code",
   "execution_count": 1,
   "id": "e66fe2c8-10b2-4166-ad58-a5f7290111d5",
   "metadata": {},
   "outputs": [],
   "source": [
    "def long_term():\n",
    "    # straight line fit\n",
    "    s = improvement(df, 'straightLineErrorL2', 'straightLineParam', 'flatLineErrorL2', 'flatLineParam')\n",
    "    s = improvement(s, 'straightLineErrorL2', 'straightLineParam', 'curveErrorL2', 'curveParamL2')\n",
    "    s = improvement(s, 'straightLineErrorL2', 'straightLineParam', 'curtilErrorL2', 'curtilParamL2')\n",
    "    return s"
   ]
  },
  {
   "cell_type": "code",
   "execution_count": 5,
   "id": "423aeb33-7a54-4d5f-8231-0f7fb3b05220",
   "metadata": {},
   "outputs": [],
   "source": [
    "def non_var():\n",
    "    # flat line fit\n",
    "    # s = improvement(df, 'flatLineErrorL2', 'flatLineParam', 'straightLineErrorL2', 'straightLineParam')\n",
    "    # s = improvement(df, 'flatLineErrorL2', 'flatLineParam', 'curveErrorL2', 'curveParamL2')\n",
    "    # s = improvement(s, 'flatLineErrorL2', 'flatLineParam', 'curtilErrorL2', 'curtilParamL2')\n",
    "    \n",
    "    # no jitter\n",
    "    # s = s[s['Jitter'] == 0]\n",
    "    \n",
    "    s = df[~df['KIC'].isin(long_term()['KIC'])]\n",
    "    s = s[~s['KIC'].isin(mid_term()['KIC'])]\n",
    "    s = s[~s['KIC'].isin(short_term()['KIC'])]\n",
    "    \n",
    "    return s"
   ]
  },
  {
   "cell_type": "code",
   "execution_count": 11,
   "id": "65ba993d-7748-4d99-b795-13589d164154",
   "metadata": {},
   "outputs": [],
   "source": [
    "def eb():\n",
    "    repl = pd.DataFrame()\n",
    "    # skip golden ffis, many errors/outliers\n",
    "    for i in range(123 + 8, len(df.columns) - 1):\n",
    "        add = df[df.iloc[:, i] < -3]\n",
    "        repl = repl.append(add, ignore_index=True)\n",
    "    return repl"
   ]
  },
  {
   "cell_type": "code",
   "execution_count": 6,
   "id": "b2a4b495-2ac4-42a7-8681-82b0e075a54a",
   "metadata": {},
   "outputs": [],
   "source": [
    "def outl():\n",
    "    count = [0] * len(cols)\n",
    "    for i in range(123, len(df.columns) - 1):\n",
    "        add = df[df.iloc[:, i] < -3]\n",
    "        count[i - 123] += len(add)\n",
    "    return count"
   ]
  },
  {
   "cell_type": "code",
   "execution_count": 8,
   "id": "c0c96605-d7ed-42ae-9f90-51f27f4a6c7f",
   "metadata": {},
   "outputs": [],
   "source": [
    "def good():\n",
    "    \n",
    "    # systematics, star on edge of detector (drop one of four orientations)\n",
    "    \n",
    "    weird = pd.DataFrame()\n",
    "        \n",
    "    # big uncertainties\n",
    "    for i in range(67, 119):\n",
    "        add = df[df.iloc[:, i] > 0.1]\n",
    "        weird = weird.append(add, ignore_index=True)\n",
    "        \n",
    "    err = df[df['curtilErrorL2'] > 20000]\n",
    "    weird = weird.append(err, ignore_index=True)\n",
    "    \n",
    "    # huge var\n",
    "    # weird = pd.merge(df[df['stdev'] > 5], weird, how='outer', on='KIC')\n",
    "    \n",
    "    # bad fits\n",
    "        \n",
    "    return df[~df['KIC'].isin(weird['KIC'])].reset_index(drop=True)"
   ]
  }
 ],
 "metadata": {
  "kernelspec": {
   "display_name": "Python 3 (ipykernel)",
   "language": "python",
   "name": "python3"
  },
  "language_info": {
   "codemirror_mode": {
    "name": "ipython",
    "version": 3
   },
   "file_extension": ".py",
   "mimetype": "text/x-python",
   "name": "python",
   "nbconvert_exporter": "python",
   "pygments_lexer": "ipython3",
   "version": "3.9.12"
  }
 },
 "nbformat": 4,
 "nbformat_minor": 5
}
