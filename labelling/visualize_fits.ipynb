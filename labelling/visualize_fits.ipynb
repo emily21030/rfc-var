{
 "cells": [
  {
   "cell_type": "code",
   "execution_count": null,
   "id": "19322743-379a-4c17-851a-2a69447dffc6",
   "metadata": {},
   "outputs": [],
   "source": [
    "# Interpret and visualize variability types / labelling accuracy"
   ]
  },
  {
   "cell_type": "code",
   "execution_count": 1,
   "id": "18636253-e048-43a0-86f1-c34d3c64a3cc",
   "metadata": {},
   "outputs": [],
   "source": [
    "import warnings \n",
    "warnings.filterwarnings(\"ignore\")\n",
    "import numpy as np\n",
    "from astropy.io import fits\n",
    "from astropy.time import Time\n",
    "import matplotlib.pyplot as plt\n",
    "from scipy.optimize import curve_fit\n",
    "import pandas as pd\n",
    "import sys\n",
    "import sklearn\n",
    "import scipy\n",
    "import math\n",
    "import ast\n",
    "from tqdm.notebook import tqdm\n",
    "pd.set_option('display.max_columns', None)"
   ]
  },
  {
   "cell_type": "code",
   "execution_count": null,
   "id": "dd188ce8-0cf0-434b-8730-a7274e92f8dc",
   "metadata": {},
   "outputs": [],
   "source": [
    "flux = pd.read_csv(\"../output/flux.csv\")\n",
    "err = pd.read_csv(\"../output/errors.csv\")\n",
    "params = pd.read_csv(\"../output/params.csv\")\n",
    "\n",
    "df = pd.merge(flux, err, how='right', on='KIC')\n",
    "\n",
    "# all arrays in params imported as strings, convert them to actual arrays\n",
    "\n",
    "for i in tqdm(params.index):\n",
    "    for col in params.columns[1:]:\n",
    "        lst = params[col][i]\n",
    "        lst = ast.literal_eval(lst)\n",
    "        params.at[i, col] = lst"
   ]
  },
  {
   "cell_type": "code",
   "execution_count": 3,
   "id": "3e3d8f49-5e86-4d1f-afd0-dcf5696c9ff9",
   "metadata": {},
   "outputs": [],
   "source": [
    "# a model for a sine curve\n",
    "def func(x, a, b, c, d):\n",
    "    return a*np.sin(b * x + c) + d \n",
    "\n",
    "# a model for a straight line\n",
    "def straightLine(x, m, b):\n",
    "    return m*x + b\n",
    "\n",
    "# a model for a sinecurve that is tiled on an axis\n",
    "def func_tilt(x, a, b, c, d, e):\n",
    "    return a*np.sin(b * x + c) + d + e*x\n",
    "\n",
    "# a model for a straight line\n",
    "def flatLine(x, b):\n",
    "    return 0*x + b"
   ]
  },
  {
   "cell_type": "code",
   "execution_count": 4,
   "id": "6d20f318-9982-4899-b7b7-c75d93ea74b2",
   "metadata": {},
   "outputs": [],
   "source": [
    "# Visualize recorded light curves from FFI data and various fits\n",
    "\n",
    "# the time points of all the data points in order\n",
    "abs = [54945.74206,54945.8670833,54946.0182163,54946.2335259,54946.3377372,54946.5495655,54946.7334679,\n",
    "         54947.1662509,55062.8253608,55091.0055606,55123.0864583,55153.9797114,55182.0366329,55215.9548927,\n",
    "         55216.0352649,55245.7660019,55274.7398619,55307.5350333,55336.4281441,55370.695297,55399.0571196,\n",
    "         55430.8109392,55461.8291274,55492.8064711,55522.7621353,55552.0843583,55585.5760016,55614.7389024,\n",
    "         55677.4444762,55706.6440223,55738.4591443,55769.477399,55801.7624176,55832.8010616,55864.8001316,\n",
    "         55895.757043,55930.8619526,55958.4268791,55986.5230115,56014.5579184,56047.5173675,56077.4525238,\n",
    "         56105.5895974,56137.5273556,56168.8315615,56203.8547584,56236.834641,56267.9141396,56303.6729488,\n",
    "         56330.563549,56357.495041,56390.4952381]\n",
    "times = np.asarray(abs) - 54833\n",
    "\n",
    "time = Time(abs, format='mjd')\n",
    "normalized = time.decimalyear\n",
    "\n",
    "cols = [str(i) for i in abs]\n",
    "\n",
    "def visualize(kid, y_min = None, y_max = None):\n",
    "    if kid not in flux['KIC'].values:\n",
    "        print(\"KIC does not have valid FFI data.\")\n",
    "    else:\n",
    "        df_row = flux[flux['KIC'] == kid].iloc[0]\n",
    "        params_row = params[params['KIC']== kid].iloc[0]\n",
    "        \n",
    "        x_plot = normalized\n",
    "        y_plot = df_row[cols]\n",
    "        \n",
    "        plt.figure(figsize=(10, 10)) \n",
    "        ax = plt.axes()\n",
    "        ax.errorbar(x_plot, y_plot, yerr=df_row[67:119], lw = 2, capsize = 4, capthick = 1, linestyle = '')\n",
    "        scatter = ax.scatter(x_plot, y_plot, c=np.where(np.abs(df_row[123:].to_numpy()) < 3, True, False), cmap='PiYG')\n",
    "        \n",
    "        line_inp = np.linspace(times[0], times[-1], 500)\n",
    "        line_plot = np.linspace(normalized[0], normalized[-1], 500)\n",
    "        \n",
    "        flat, = ax.plot(line_plot, flatLine(line_inp, params_row['flatLineParam']))\n",
    "        straight, = ax.plot(line_plot, straightLine(line_inp, params_row['straightLineParam'][0], params_row['straightLineParam'][1]))\n",
    "        curve, = ax.plot(line_plot, func(line_inp, params_row['curveParamL2'][0], params_row['curveParamL2'][1], params_row['curveParamL2'][2], params_row['curveParamL2'][3]))\n",
    "        curtil, = ax.plot(line_plot, func_tilt(line_inp, params_row['curtilParamL2'][0], params_row['curtilParamL2'][1], params_row['curtilParamL2'][2], params_row['curtilParamL2'][3], params_row['curtilParamL2'][4]))\n",
    "        \n",
    "        # plt.axis('square')\n",
    "        ax.set_xlabel('Year')\n",
    "        ax.set_ylabel('Relative Flux')\n",
    "        if (type(y_min) == int or type(y_min) == float) and (type(y_max) == int or type(y_max) == float):\n",
    "            plt.ylim(y_min, y_max)\n",
    "        ax.legend([flat, straight, curve, curtil], ['Flat Line', 'Straight Line', 'Curve', 'Tilted Curve'], loc='best')\n",
    "        \n",
    "        print(\"-- KIC: \" + str(kid) + \" --\")\n",
    "        plt.show()\n",
    "        print(\"CP/CB: \" + str(df_row['cpcb']))\n",
    "        print(\"EB: \" + str(df_row['eb']))\n",
    "        print(\"Flat line L2 error: \" + str(df_row['flatLineErrorL2']))\n",
    "        print(\"Straight line L2 error: \" + str(df_row['straightLineErrorL2']))\n",
    "        print(\"Curve L2 error: \" + str(df_row['curveErrorL2']))\n",
    "        print(\"Tilted curve L2 error: \" + str(df_row['curtilErrorL2']))\n",
    "        print(\"Standard deviation: \" + str(df_row['stdev']) + \"\\n\")"
   ]
  },
  {
   "cell_type": "code",
   "execution_count": null,
   "id": "7901d4df-63b7-4d92-a2ba-79fb385c8eb3",
   "metadata": {},
   "outputs": [],
   "source": [
    "imp = improvement(df, 'straightLineErrorL2', 'straightLineParam', 'curtilErrorL2', 'curtilParamL2')\n",
    "\n",
    "# Plot straight vs curved fit error\n",
    "\n",
    "data = imp\n",
    "\n",
    "x_plot = data['straightLineErrorL2']\n",
    "y_plot = data['curtilErrorL2']\n",
    "\n",
    "plt.figure(figsize=(8, 8)) \n",
    "\n",
    "scatter = plt.scatter(x_plot, y_plot, c=data['eb'], cmap='viridis', s=2)\n",
    "plt.legend(handles=scatter.legend_elements()[0], \n",
    "           labels=[0.0, 1.0],\n",
    "           title=\"CP/CB Flag\")\n",
    "plt.xlabel('Flat Line Error L1')\n",
    "plt.ylabel('Straight Line Error L1')\n",
    "\n",
    "plt.xlim(0, 5000)\n",
    "plt.ylim(0, 5000)\n",
    "\n",
    "plt.show()"
   ]
  },
  {
   "cell_type": "code",
   "execution_count": null,
   "id": "eab99074-4c88-4fed-9abb-9b1c6886649a",
   "metadata": {},
   "outputs": [],
   "source": [
    "# Print proportions of data that fit one curve better than another\n",
    "\n",
    "err_labels = ['curveErrorL2',\n",
    "        'straightLineErrorL2',\n",
    "        'curtilErrorL2',\n",
    "       'flatLineErrorL2']\n",
    "\n",
    "par_labels = ['curveParamL2',\n",
    "        'straightLineParam',\n",
    "        'curtilParamL2',\n",
    "        'flatLineParam']\n",
    "\n",
    "for i in range(len(err_labels)):\n",
    "    for j in range(len(err_labels)):\n",
    "        if i != j:\n",
    "            combo = improvement(df, err_labels[i], par_labels[i], err_labels[j], par_labels[j])\n",
    "            print(err_labels[i])\n",
    "            print(err_labels[j])\n",
    "            print(\"df length: \" + str(len(combo)))\n",
    "            print(\"percentage eb: \" + str(len(combo[combo['eb'] == 1]) / len(df[df['eb'] == 1])))\n",
    "            print(\"percentage eb of data: \" + str(len(combo[combo['eb'] == 1]) / len(combo)))\n",
    "            print(\"percentage cpcb: \" + str(len(combo[combo['cpcb'] == 1]) / len(df[df['cpcb'] == 1])))\n",
    "            print(\"percentage cpcb of data: \" + str(len(combo[combo['cpcb'] == 1]) / len(combo)) + \"\\n\")"
   ]
  },
  {
   "cell_type": "code",
   "execution_count": null,
   "id": "60b5b251-31f2-4c9a-896a-4136489fa527",
   "metadata": {},
   "outputs": [],
   "source": [
    "# Find percentage of EBs for some # stdevs away (3+)\n",
    "\n",
    "for i in range(-3, -8, -1):\n",
    "    s = df\n",
    "    repl = pd.DataFrame()\n",
    "    for j in range(123, len(s.columns)):\n",
    "        add = s[s.iloc[:, j] < i]\n",
    "        repl = repl.append(add, ignore_index=True)\n",
    "    print('percent eb: ' + str(len(repl[repl['eb'] == 1]) / len(df[df['eb'] == 1]) * 100))\n",
    "    print('percent correct: ' + str(len(repl[repl['eb'] == 1]) / len(repl) * 100))\n",
    "    print(len(repl))\n",
    "    print()"
   ]
  },
  {
   "cell_type": "code",
   "execution_count": null,
   "id": "8f137a42-2bc7-4a10-942f-e81f0f1125b5",
   "metadata": {},
   "outputs": [],
   "source": [
    "# Find outlying errors > 20000\n",
    "\n",
    "l2 = ['flatLineErrorL2', 'straightLineErrorL2', 'curveErrorL2', 'curtilErrorL2']\n",
    "\n",
    "rem = df.copy(deep=True)\n",
    "for l in l2:\n",
    "    rem = rem.drop(rem[rem[l] > 20000].index)\n",
    "rem"
   ]
  },
  {
   "cell_type": "code",
   "execution_count": null,
   "id": "6c06043d-7dc3-4025-bf5f-155acd3a6b05",
   "metadata": {},
   "outputs": [],
   "source": [
    "# Find percentage of data set that have large uncertainty measurements\n",
    "\n",
    "vals = [0.1, 0.5, 1]\n",
    "    \n",
    "for val in vals:\n",
    "    weird = pd.DataFrame()    \n",
    "\n",
    "# big uncertainties\n",
    "    for i in range(67, 119):\n",
    "        add = df[df.iloc[:, i] > val]\n",
    "        weird = weird.append(add, ignore_index=True)\n",
    "        \n",
    "    print(val)\n",
    "    print(len(weird))\n",
    "    print()"
   ]
  },
  {
   "cell_type": "code",
   "execution_count": 5,
   "id": "24d0f7e1-42c2-4bce-a06e-2dcca01f090f",
   "metadata": {},
   "outputs": [
    {
     "name": "stdout",
     "output_type": "stream",
     "text": [
      "29359\n",
      "36100\n",
      "21547\n",
      "68228\n",
      "1507\n",
      "25469\n",
      "150605\n",
      "0.45302612795059927\n"
     ]
    }
   ],
   "source": [
    "%run classify_types.ipynb\n",
    "\n",
    "df = good()\n",
    "\n",
    "print(len(long_term()))\n",
    "print(len(mid_term()))\n",
    "print(len(short_term()))\n",
    "print(len(non_var()))\n",
    "print(len(df[df['eb'] == 1]))\n",
    "print(len(eb()))\n",
    "print(len(df))\n",
    "# nonvar 60-80%\n",
    "print(len(non_var()) / len(df))"
   ]
  },
  {
   "cell_type": "code",
   "execution_count": 75,
   "id": "02fa284f-18d3-4c23-b237-7124b588aa66",
   "metadata": {},
   "outputs": [],
   "source": [
    "st = short_term()"
   ]
  },
  {
   "cell_type": "code",
   "execution_count": null,
   "id": "6f71828e-c464-4ae9-a69f-68a3ffc1861f",
   "metadata": {},
   "outputs": [],
   "source": [
    "len(st[st['eb'] == 1]) / len(st)"
   ]
  },
  {
   "cell_type": "code",
   "execution_count": null,
   "id": "a8de9c9a-0506-4740-9187-0acfba6665da",
   "metadata": {},
   "outputs": [],
   "source": [
    "# white dwarf w accretion disk and a more massive star, cataclysmic binary star\n",
    "st[st['KIC'] == 1026475.0]"
   ]
  },
  {
   "cell_type": "code",
   "execution_count": 47,
   "id": "b13cfae9-8e6c-41d2-b09b-0ceda0a94cf7",
   "metadata": {},
   "outputs": [
    {
     "data": {
      "text/plain": [
       "0.2429271563667919"
      ]
     },
     "execution_count": 47,
     "metadata": {},
     "output_type": "execute_result"
    }
   ],
   "source": [
    "# jitter < 0.001 = non var?\n",
    "len(st[st['Jitter'] < 0.001]) / len(st)"
   ]
  },
  {
   "cell_type": "code",
   "execution_count": null,
   "id": "648f9009-1f10-4162-ae0c-4218d01d03a7",
   "metadata": {},
   "outputs": [],
   "source": [
    "# Visualize plots\n",
    "\n",
    "i = 0\n",
    "data = short_term()\n",
    "# data = data[data['eb'] == 0]\n",
    "print(len(data))\n",
    "for kic in data['KIC']:\n",
    "    # visualize(kic)\n",
    "    if i > 110 and i < 120:\n",
    "        visualize(kic)\n",
    "    i += 1"
   ]
  },
  {
   "cell_type": "code",
   "execution_count": null,
   "id": "054e91ef-224d-4af5-a3dd-4f77b6b77cb0",
   "metadata": {},
   "outputs": [],
   "source": [
    "# Add two-character flags that indicate each type of variability\n",
    "# st = short term, mt = medium term, lt = long term, eb = eclipsing binary, nv = non variable\n",
    "\n",
    "save = df[['KIC']]\n",
    "save['vt'] = None\n",
    "\n",
    "funcs = [short_term(), mid_term(), long_term(), eb(), non_var()]\n",
    "labels = ['st', 'mt', 'lt', 'eb', 'nv']\n",
    "\n",
    "for i in range(len(funcs)):\n",
    "    flag = funcs[i]\n",
    "    flag = pd.merge(df, flag, how='inner', on='KIC')\n",
    "    for kic in tqdm(flag['KIC']):\n",
    "        save.at[save[save['KIC'] == kic].index[0], 'vt'] = labels[i]"
   ]
  },
  {
   "cell_type": "code",
   "execution_count": null,
   "id": "b919c31e-b36b-48bc-94bb-ad83840e1a4b",
   "metadata": {},
   "outputs": [],
   "source": [
    "save.to_csv(\"../output/rf_labels.csv\", index=False)"
   ]
  }
 ],
 "metadata": {
  "kernelspec": {
   "display_name": "Python 3 (ipykernel)",
   "language": "python",
   "name": "python3"
  },
  "language_info": {
   "codemirror_mode": {
    "name": "ipython",
    "version": 3
   },
   "file_extension": ".py",
   "mimetype": "text/x-python",
   "name": "python",
   "nbconvert_exporter": "python",
   "pygments_lexer": "ipython3",
   "version": "3.9.12"
  }
 },
 "nbformat": 4,
 "nbformat_minor": 5
}
