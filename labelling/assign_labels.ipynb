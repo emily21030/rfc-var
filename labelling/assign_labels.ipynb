{
 "cells": [
  {
   "cell_type": "code",
   "execution_count": null,
   "id": "cfbf3841-97f0-4519-860c-1dbec8530c5d",
   "metadata": {},
   "outputs": [],
   "source": [
    "# Add two-character flags that indicate each type of variability\n",
    "# st = short term, mt = medium term, lt = long term, eb = eclipsing binary, nv = non variable"
   ]
  },
  {
   "cell_type": "code",
   "execution_count": null,
   "id": "8b6fc4e3-241e-4204-9192-66a6dc94e136",
   "metadata": {},
   "outputs": [],
   "source": [
    "import warnings \n",
    "warnings.filterwarnings(\"ignore\")\n",
    "import numpy as np\n",
    "from astropy.io import fits\n",
    "from astropy.time import Time\n",
    "import matplotlib.pyplot as plt\n",
    "from scipy.optimize import curve_fit\n",
    "import pandas as pd\n",
    "import sys\n",
    "import sklearn\n",
    "import scipy\n",
    "import math\n",
    "import ast\n",
    "from tqdm.notebook import tqdm\n",
    "pd.set_option('display.max_columns', None)"
   ]
  },
  {
   "cell_type": "code",
   "execution_count": null,
   "id": "2345a6a1-95e3-4fe1-be9e-9c381568516b",
   "metadata": {},
   "outputs": [],
   "source": [
    "df = pd.read_csv(\"../output/Kepler_FFI_Fits.csv\")\n",
    "params = pd.read_csv(\"../output/Kepler_FFI_Params.csv\")\n",
    "\n",
    "# all arrays in params imported as strings, convert them to actual arrays\n",
    "\n",
    "for i in tqdm(params.index):\n",
    "    for col in params.columns[1:]:\n",
    "        lst = params[col][i]\n",
    "        lst = ast.literal_eval(lst)\n",
    "        params.at[i, col] = lst"
   ]
  },
  {
   "cell_type": "code",
   "execution_count": null,
   "id": "08cec110-d7f5-432b-897c-ae2d7eaafb22",
   "metadata": {},
   "outputs": [],
   "source": [
    "%run classify_types.ipynb\n",
    "\n",
    "df = good()\n",
    "\n",
    "save = df[['KIC']]\n",
    "save['vt'] = None\n",
    "\n",
    "funcs = [short_term(), mid_term(), long_term(), eb(), non_var()]\n",
    "labels = ['st', 'mt', 'lt', 'eb', 'nv']\n",
    "\n",
    "for i in range(len(funcs)):\n",
    "    flag = funcs[i]\n",
    "    flag = pd.merge(df, flag, how='inner', on='KIC')\n",
    "    for kic in tqdm(flag['KIC']):\n",
    "        save.at[save[save['KIC'] == kic].index[0], 'vt'] = labels[i]"
   ]
  },
  {
   "cell_type": "code",
   "execution_count": null,
   "id": "d9550a68-baaa-4120-92c9-52ae51c69989",
   "metadata": {},
   "outputs": [],
   "source": [
    "save.to_csv(\"../output/Kepler_FFI_Labels.csv\", index=False)"
   ]
  }
 ],
 "metadata": {
  "kernelspec": {
   "display_name": "Python 3 (ipykernel)",
   "language": "python",
   "name": "python3"
  },
  "language_info": {
   "codemirror_mode": {
    "name": "ipython",
    "version": 3
   },
   "file_extension": ".py",
   "mimetype": "text/x-python",
   "name": "python",
   "nbconvert_exporter": "python",
   "pygments_lexer": "ipython3",
   "version": "3.9.12"
  }
 },
 "nbformat": 4,
 "nbformat_minor": 5
}
